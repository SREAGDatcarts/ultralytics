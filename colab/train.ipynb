{
  "cells": [
    {
      "cell_type": "markdown",
      "metadata": {
        "id": "view-in-github",
        "colab_type": "text"
      },
      "source": [
        "<a href=\"https://colab.research.google.com/github/SREAGDatcarts/ultralytics/blob/main/colab/train.ipynb\" target=\"_parent\"><img src=\"https://colab.research.google.com/assets/colab-badge.svg\" alt=\"Open In Colab\"/></a>"
      ]
    },
    {
      "cell_type": "code",
      "execution_count": null,
      "id": "548f5e5f-aeb3-49d7-9d4d-51862638bbfc",
      "metadata": {
        "id": "548f5e5f-aeb3-49d7-9d4d-51862638bbfc"
      },
      "outputs": [],
      "source": [
        "\"\"\"Train YOLO.\n",
        "\n",
        "This notebook runs the training script with specified data.\n",
        "\n",
        "Usage:\n",
        "    This should be run as a Jupyter Notebook cell.\n",
        "\n",
        "\"\"\"\n",
        "\n",
        "!pip install roboflow==1.1.60\n",
        "\n",
        "import getpass\n",
        "import logging\n",
        "import os\n",
        "import uuid\n",
        "import tempfile\n",
        "from roboflow import Roboflow\n",
        "import gdown\n",
        "\n",
        "# Initialize logger.\n",
        "logger: logging.Logger = logging.getLogger(\"train\")\n",
        "\n",
        "# Unique string identifying the project.\n",
        "unique_string = uuid.uuid4()\n",
        "logger.info(f\"Project name: {unique_string}\")\n",
        "\n",
        "# Create a temporary directory.\n",
        "directory: str = os.path.join(tempfile.gettempdir(), f\"cdt_{unique_string}\")\n",
        "\n",
        "logger.info(f\"Cloning into {directory}\")\n",
        "\n",
        "# Clone the repository.\n",
        "!mkdir $directory\n",
        "%cd $directory\n",
        "\n",
        "# Path to directory.\n",
        "data: str = \"/tmp/data\"\n",
        "\n",
        "# Model source.\n",
        "model_source: str = input(\"Model source; gdrive|ultralytics: \")\n",
        "\n",
        "if model_source == \"gdrive\":\n",
        "    # Ask for file ID.\n",
        "    file_id: str = input(\"Model file ID: \")\n",
        "    # Model path.\n",
        "    model = \"./model.pt\"\n",
        "    # Download file.\n",
        "    !gdown $file_id -O $model\n",
        "\n",
        "# Choose data source.\n",
        "data_source: str = input(f\"Data source; roboflow or gdrive: \")\n",
        "\n",
        "if data_source == \"roboflow\":\n",
        "    roboflow_dataset_api_key: str = input(\"Roboflow dataset API key: \")\n",
        "    workspace: str = input(\"Roboflow workspace - Default is test-2anht: \") or \"test-2anht\"\n",
        "    project: str = input(\"Roboflow project - Default is cverde-ywlly: \") or \"cverde-ywlly\"\n",
        "    version: str = input(\"Project version - Default is 1: \") or \"1\"\n",
        "    data_format: str = input(\"Data format - Default is yolov12: \") or \"yolov12\"\n",
        "    rf = Roboflow(api_key=roboflow_dataset_api_key)\n",
        "    project = rf.workspace(workspace).project(project)\n",
        "    version = project.version(int(version))\n",
        "    dataset = version.download(data_format)\n",
        "elif data_source == \"gdrive\":\n",
        "    gdrive_id = input(f\"Google Drive file ID: \")\n",
        "    !gdown $gdrive_id -O data.zip\n",
        "    !unzip data.zip -d $data\n",
        "\n",
        "!pip install ultralytics"
      ]
    },
    {
      "cell_type": "code",
      "execution_count": null,
      "id": "8e1fa4c0-8950-41ae-90ca-964c720c83b2",
      "metadata": {
        "id": "8e1fa4c0-8950-41ae-90ca-964c720c83b2"
      },
      "outputs": [],
      "source": []
    }
  ],
  "metadata": {
    "colab": {
      "provenance": [],
      "include_colab_link": true
    },
    "kernelspec": {
      "display_name": "Python 3 (ipykernel)",
      "language": "python",
      "name": "python3"
    },
    "language_info": {
      "codemirror_mode": {
        "name": "ipython",
        "version": 3
      },
      "file_extension": ".py",
      "mimetype": "text/x-python",
      "name": "python",
      "nbconvert_exporter": "python",
      "pygments_lexer": "ipython3",
      "version": "3.11.2"
    }
  },
  "nbformat": 4,
  "nbformat_minor": 5
}